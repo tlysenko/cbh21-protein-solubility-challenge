{
  "nbformat": 4,
  "nbformat_minor": 0,
  "metadata": {
    "colab": {
      "name": "Regression-baseline.ipynb",
      "provenance": [],
      "mount_file_id": "15pKSP_1X5evH3pwcWG2iinOSUsxH4NmV",
      "authorship_tag": "ABX9TyPB8F7VEu1wlF3dU7ApQ7iA",
      "include_colab_link": true
    },
    "kernelspec": {
      "name": "python3",
      "display_name": "Python 3"
    },
    "language_info": {
      "name": "python"
    }
  },
  "cells": [
    {
      "cell_type": "markdown",
      "metadata": {
        "id": "view-in-github",
        "colab_type": "text"
      },
      "source": [
        "<a href=\"https://colab.research.google.com/github/tlysenko/cbh21-protein-solubility-challenge/blob/main/Regression_baseline.ipynb\" target=\"_parent\"><img src=\"https://colab.research.google.com/assets/colab-badge.svg\" alt=\"Open In Colab\"/></a>"
      ]
    },
    {
      "cell_type": "markdown",
      "metadata": {
        "id": "NPyXlkr6M7r7"
      },
      "source": [
        "### Importing the libraries"
      ]
    },
    {
      "cell_type": "code",
      "metadata": {
        "id": "ktBvEDPxMswo"
      },
      "source": [
        "import pandas as pd\n",
        "import numpy as np\n",
        "\n",
        "from sklearn.linear_model import LinearRegression\n",
        "from sklearn.model_selection import train_test_split, cross_val_score\n",
        "from sklearn.preprocessing import StandardScaler\n",
        "\n",
        "from sklearn import metrics\n",
        "\n",
        "from scipy.stats import pearsonr\n",
        "\n",
        "import matplotlib.pyplot as plt\n",
        "%matplotlib inline"
      ],
      "execution_count": 1,
      "outputs": []
    },
    {
      "cell_type": "markdown",
      "metadata": {
        "id": "HuTEmcHg0-lG"
      },
      "source": [
        "# Data Preparation"
      ]
    },
    {
      "cell_type": "markdown",
      "metadata": {
        "id": "D1BPyN38jels"
      },
      "source": [
        "### Train.csv"
      ]
    },
    {
      "cell_type": "code",
      "metadata": {
        "colab": {
          "base_uri": "https://localhost:8080/"
        },
        "id": "IUcCVoRvNJ3m",
        "outputId": "33b992bc-6830-4fa3-84b0-1b8570a22f10"
      },
      "source": [
        "root_path = '/content/drive/MyDrive/CBH/Model_0.2/'\n",
        "df = pd.read_csv(root_path + 'data/train.csv')\n",
        "\n",
        "#Features PFAM\n",
        "df_pfam = pd.read_csv(root_path + 'data/features_pfam.csv')\n",
        "\n",
        "# PhysProp features\n",
        "df_pp = pd.read_csv(root_path +'data/features_phys_prop.csv')\n",
        "\n",
        "#Protdes features\n",
        "df_protdes = pd.read_csv(root_path +'data/features_protdes_combined.csv')\n",
        "\n",
        "# Merging the data\n",
        "df_main = pd.merge(df, df_pfam, on='id')\n",
        "df_main = pd.merge(df_main, df_pp, on='id')\n",
        "df_main = pd.merge(df_main, df_protdes, on = 'id')\n",
        "\n",
        "df_main = df_main.fillna(0)\n",
        "\n",
        "print('df_main',df_main.shape)\n",
        "print(df_pfam.shape[1] + df_pp.shape[1] + df_protdes.shape[1])"
      ],
      "execution_count": 27,
      "outputs": [
        {
          "output_type": "stream",
          "text": [
            "df_main (406, 1228)\n",
            "1228\n"
          ],
          "name": "stdout"
        }
      ]
    },
    {
      "cell_type": "markdown",
      "metadata": {
        "id": "-jkNGCC6Pl7u"
      },
      "source": [
        "### X and Y variables"
      ]
    },
    {
      "cell_type": "code",
      "metadata": {
        "id": "mnQkGwGvPpwx"
      },
      "source": [
        "y = df_main['solubility']\n",
        "X = df_main.drop(['solubility', 'seq','id'], axis = 1)"
      ],
      "execution_count": 28,
      "outputs": []
    },
    {
      "cell_type": "code",
      "metadata": {
        "colab": {
          "base_uri": "https://localhost:8080/"
        },
        "id": "nUzKAuWZVVZY",
        "outputId": "51c275c3-7eb6-47a0-995f-98ebf35a0801"
      },
      "source": [
        "print(X.shape, y.shape)"
      ],
      "execution_count": 4,
      "outputs": [
        {
          "output_type": "stream",
          "text": [
            "(406, 1225) (406,)\n"
          ],
          "name": "stdout"
        }
      ]
    },
    {
      "cell_type": "markdown",
      "metadata": {
        "id": "FnzG9AblOiQv"
      },
      "source": [
        "### Train-test-split"
      ]
    },
    {
      "cell_type": "code",
      "metadata": {
        "id": "0ozbm5N9PUl1"
      },
      "source": [
        "X_train, X_test, y_train, y_test = train_test_split(\n",
        "         X, y, test_size=0.23, random_state=42)"
      ],
      "execution_count": 29,
      "outputs": []
    },
    {
      "cell_type": "code",
      "metadata": {
        "colab": {
          "base_uri": "https://localhost:8080/"
        },
        "id": "dGwDh4y8VJoZ",
        "outputId": "9c5ebe28-bc7a-4620-d695-7cd2538b4e0c"
      },
      "source": [
        "print(X_train.shape, y_train.shape)\n",
        "print(X_test.shape, y_test.shape)  "
      ],
      "execution_count": 30,
      "outputs": [
        {
          "output_type": "stream",
          "text": [
            "(312, 1225) (312,)\n",
            "(94, 1225) (94,)\n"
          ],
          "name": "stdout"
        }
      ]
    },
    {
      "cell_type": "markdown",
      "metadata": {
        "id": "pbCboJAZUSKD"
      },
      "source": [
        "### Scale the data"
      ]
    },
    {
      "cell_type": "code",
      "metadata": {
        "id": "PYOuxhxoUUCz"
      },
      "source": [
        "sc_X = StandardScaler()\n",
        "X_train = sc_X.fit_transform(X_train)\n",
        "X_test = sc_X.transform(X_test)"
      ],
      "execution_count": 7,
      "outputs": []
    },
    {
      "cell_type": "markdown",
      "metadata": {
        "id": "VpP3ALNr1ICn"
      },
      "source": [
        "# Model Training"
      ]
    },
    {
      "cell_type": "code",
      "metadata": {
        "id": "V7pSzIhqQIaO"
      },
      "source": [
        "model = LinearRegression().fit(X_train, y_train)"
      ],
      "execution_count": 8,
      "outputs": []
    },
    {
      "cell_type": "markdown",
      "metadata": {
        "id": "KAomFEJDTsTV"
      },
      "source": [
        "# Inference"
      ]
    },
    {
      "cell_type": "code",
      "metadata": {
        "id": "UpB31H8HSJJw"
      },
      "source": [
        "prediction_LR = model.predict(X_test)"
      ],
      "execution_count": 9,
      "outputs": []
    },
    {
      "cell_type": "code",
      "metadata": {
        "colab": {
          "base_uri": "https://localhost:8080/",
          "height": 265
        },
        "id": "YlzCaiGZhXDG",
        "outputId": "347e9b5b-4847-4100-d037-632fb66e45a0"
      },
      "source": [
        "plt.boxplot([prediction_LR, y_test]);"
      ],
      "execution_count": 10,
      "outputs": [
        {
          "output_type": "display_data",
          "data": {
            "image/png": "[encoded data removed]",
            "text/plain": [
              "<Figure size 432x288 with 1 Axes>"
            ]
          },
          "metadata": {
            "tags": [],
            "needs_background": "light"
          }
        }
      ]
    },
    {
      "cell_type": "code",
      "metadata": {
        "colab": {
          "base_uri": "https://localhost:8080/",
          "height": 265
        },
        "id": "lE9nWIVj2Hrn",
        "outputId": "cba9116b-f358-4e13-ad8c-c8e78c0c7b37"
      },
      "source": [
        "plt.scatter(prediction_LR, y_test);"
      ],
      "execution_count": 11,
      "outputs": [
        {
          "output_type": "display_data",
          "data": {
            "image/png": "[encoded data removed]",
            "text/plain": [
              "<Figure size 432x288 with 1 Axes>"
            ]
          },
          "metadata": {
            "tags": [],
            "needs_background": "light"
          }
        }
      ]
    },
    {
      "cell_type": "code",
      "metadata": {
        "colab": {
          "base_uri": "https://localhost:8080/"
        },
        "id": "Gew6KVzjGx0k",
        "outputId": "0d2cccb6-ebf1-42a6-d48f-c29ae8035c14"
      },
      "source": [
        "prediction_LR[:100]"
      ],
      "execution_count": 12,
      "outputs": [
        {
          "output_type": "execute_result",
          "data": {
            "text/plain": [
              "array([  82.71504213,    4.87606309,   61.67689391,  -23.25628563,\n",
              "         48.70560936,   65.76802768,   39.96569131,  116.95153024,\n",
              "         98.48704305,  115.59164306,   30.2488864 ,   19.6922038 ,\n",
              "         72.57732337,  110.13209868,   61.91321331,  109.7989217 ,\n",
              "         49.50916306,   60.12763864,  -13.41319278,  126.66852838,\n",
              "         18.70851959,   19.55675886,   79.36006482,  157.12552009,\n",
              "         58.13100357,  144.12118942,   91.22658707,   27.89405841,\n",
              "        111.48886348,   94.77585814,   61.20042896,   72.2195329 ,\n",
              "         98.46989312,   24.91737495,   24.0799957 ,  151.16198893,\n",
              "          3.53570617,   22.05172353,   38.88650325,  100.8398163 ,\n",
              "        145.80051371,   29.18407941,   49.17171783,   58.26395029,\n",
              "        109.50869897,  117.95049859,  129.05765228,  116.41336871,\n",
              "         59.96173189,   65.2850917 ,   90.18612497,  -66.76790534,\n",
              "         29.29852896,  -12.35941449,  103.29094228,   51.85528081,\n",
              "         55.49982452,   89.78168594,   71.90354144,   54.98992971,\n",
              "        191.51048555,   12.86616363,  147.28104201,   59.62655419,\n",
              "         -4.72377565,   35.4592316 ,   87.95710653,   21.20014541,\n",
              "        102.67921919,   84.87046992,  -29.50821089,   28.24708631,\n",
              "         75.45023476,  117.1296537 ,   88.20225707,  126.74036293,\n",
              "        124.93915857,  107.85911259,  107.33384964,   81.92371431,\n",
              "         61.4094087 ,   97.43048047,   70.77823922, -105.20487493,\n",
              "        122.41479088,   -4.92470593,   75.43707321,   26.15293847,\n",
              "        153.14626897,   84.75353512,  104.41173723,   74.63718628,\n",
              "         23.60893748,   71.82458355])"
            ]
          },
          "metadata": {
            "tags": []
          },
          "execution_count": 12
        }
      ]
    },
    {
      "cell_type": "code",
      "metadata": {
        "colab": {
          "base_uri": "https://localhost:8080/"
        },
        "id": "7XtwusgS2ypI",
        "outputId": "ceb85876-c46c-4c8a-c3bb-634338faf6c8"
      },
      "source": [
        "pearsonr(prediction_LR, y_test)"
      ],
      "execution_count": 13,
      "outputs": [
        {
          "output_type": "execute_result",
          "data": {
            "text/plain": [
              "(0.2247441630617983, 0.029423757312444267)"
            ]
          },
          "metadata": {
            "tags": []
          },
          "execution_count": 13
        }
      ]
    },
    {
      "cell_type": "markdown",
      "metadata": {
        "id": "SCJpF-tK-yPe"
      },
      "source": [
        "# test.csv inference"
      ]
    },
    {
      "cell_type": "code",
      "metadata": {
        "colab": {
          "base_uri": "https://localhost:8080/"
        },
        "id": "sSBA_-au-xsj",
        "outputId": "f5acddef-df10-4a0e-fd84-79491456af05"
      },
      "source": [
        "root_path = '/content/drive/MyDrive/CBH/Model_0.2/'\n",
        "df = pd.read_csv(root_path + 'data/test.csv')\n",
        "print(df.shape)\n",
        "\n",
        "#Features PFAM\n",
        "df_pfam = pd.read_csv(root_path + 'data/features_pfam.csv')\n",
        "\n",
        "# PhysProp features\n",
        "df_pp = pd.read_csv(root_path +'data/features_phys_prop.csv')\n",
        "\n",
        "#Protdes features\n",
        "df_protdes = pd.read_csv(root_path +'data/features_protdes_combined.csv')\n",
        "\n",
        "# Merging the data\n",
        "df_main = pd.merge(df, df_pfam, on='id')\n",
        "print(df_main.shape)\n",
        "df_main = pd.merge(df_main, df_pp, on='id')\n",
        "print(df_main.shape)\n",
        "\n",
        "df_main = pd.merge(df_main, df_protdes, on = 'id')\n",
        "print(df_main.shape)\n",
        "\n",
        "df_main = df_main.fillna(0)\n",
        "\n",
        "\n",
        "print('df_main',df_main.shape)\n",
        "print(df_pfam.shape[1] + df_pp.shape[1] + df_protdes.shape[1])"
      ],
      "execution_count": 31,
      "outputs": [
        {
          "output_type": "stream",
          "text": [
            "(659, 2)\n",
            "(659, 1055)\n",
            "(659, 1080)\n",
            "(659, 1227)\n",
            "df_main (659, 1227)\n",
            "1228\n"
          ],
          "name": "stdout"
        }
      ]
    },
    {
      "cell_type": "code",
      "metadata": {
        "id": "mOk2i2qv-CUB"
      },
      "source": [
        "df_main = df_main.drop(['seq', 'id'], axis = 1)"
      ],
      "execution_count": 32,
      "outputs": []
    },
    {
      "cell_type": "code",
      "metadata": {
        "id": "6spNsCQGHjyZ"
      },
      "source": [
        "sc_X = StandardScaler()\n",
        "sc_X.fit(X_train)\n",
        "X_main = sc_X.transform(df_main)"
      ],
      "execution_count": 33,
      "outputs": []
    },
    {
      "cell_type": "code",
      "metadata": {
        "id": "3NbbdovTHum8"
      },
      "source": [
        "final_pred = model.predict(X_main)"
      ],
      "execution_count": 34,
      "outputs": []
    },
    {
      "cell_type": "code",
      "metadata": {
        "colab": {
          "base_uri": "https://localhost:8080/"
        },
        "id": "zKLmGVc7G6Ky",
        "outputId": "75642014-04db-415e-8fc3-17a440bfeea7"
      },
      "source": [
        "final_pred[:200]"
      ],
      "execution_count": 35,
      "outputs": [
        {
          "output_type": "execute_result",
          "data": {
            "text/plain": [
              "array([-5.81598089e+00,  6.13742648e+01, -3.03643041e+00,  7.82297122e+01,\n",
              "        4.96677925e+01, -9.55910876e-02,  1.16526102e+02,  6.85027355e+01,\n",
              "        9.35856691e+01,  1.36562498e+02,  1.69955830e+01, -1.30022360e+01,\n",
              "        1.02152613e+02,  8.98070608e+01,  1.19529343e+02,  1.38091954e+02,\n",
              "        2.01193660e+01,  9.42755053e+01, -1.12363251e+01,  5.15473846e+01,\n",
              "        6.45369517e+01,  9.72098759e+01,  1.81766953e+02,  2.43840260e+02,\n",
              "        4.81376138e+01,  7.57345817e+00,  1.06232409e+02,  3.22949049e+01,\n",
              "        1.00770693e+02,  5.41034547e+01,  2.23206444e+01, -1.13003369e+01,\n",
              "        2.44698996e+00,  6.10313200e+01,  6.22277525e+01,  5.55409137e+01,\n",
              "        2.59979751e+01,  5.38085643e+01,  1.05495491e+02,  2.94399879e+01,\n",
              "        3.55211834e+01,  7.53151504e+01,  4.41640376e+01,  4.64976346e+01,\n",
              "        1.48249958e+02,  9.36437340e+01,  6.71872522e+01,  1.21168854e+02,\n",
              "        1.50348509e+02,  7.98328201e+01,  1.03402667e+02,  1.28003972e+02,\n",
              "        1.17049158e+02,  1.42714772e+02,  1.73559795e+01,  2.36105796e+01,\n",
              "        2.39670646e+01,  9.16211215e+01,  6.62203906e+01,  9.15275930e+01,\n",
              "        6.54393719e+01,  1.64716363e+01,  1.65997600e+02,  5.58834429e+01,\n",
              "        3.79574991e+01,  8.26566081e+01,  9.17215982e+01,  1.53735381e+00,\n",
              "        5.66820241e+01,  5.30024354e+01,  1.70850205e+02,  7.68597648e+00,\n",
              "        9.92429092e+01,  2.65385511e+01,  7.27705229e+01,  6.87090382e+01,\n",
              "        9.31720452e+01,  5.11750466e+01,  4.75201437e+01,  7.34438525e+01,\n",
              "        8.11014305e+01,  1.01753885e+02,  1.70377646e+01,  9.40368343e+01,\n",
              "        1.27627199e+01,  1.71550668e+01,  9.85553433e+01,  1.49200511e+02,\n",
              "        1.26117309e+02,  1.12932640e+02,  1.52163285e+02,  7.06395174e+00,\n",
              "        1.10951036e+02,  8.20536395e+01,  1.43986420e+02,  1.38539363e+02,\n",
              "       -1.70753698e+01,  2.53040219e+01,  9.45216026e+01,  1.46532550e+02,\n",
              "        6.18349537e+01,  9.01109610e+01, -9.13926260e+01,  1.05007381e+02,\n",
              "       -7.13936985e+01,  6.88872858e+01,  8.11072172e+01,  4.10009500e+01,\n",
              "        9.02407423e+01,  3.41098923e+01,  3.69383484e+01,  1.13605361e+02,\n",
              "        2.74847213e+01,  1.99939244e+01,  1.52004654e+02,  6.37380077e+00,\n",
              "        4.61983987e+01,  5.90760477e+01,  1.08539140e+00,  2.01223392e+01,\n",
              "        4.26006535e+01,  6.31106652e+01,  1.88482481e+01,  1.06412917e+02,\n",
              "        1.34376103e+02,  1.17607939e+02,  2.15178876e+01,  3.44098288e+01,\n",
              "        2.10224235e+01,  1.38641470e+02,  2.79792486e+01,  1.18036758e+02,\n",
              "       -6.86113302e+00,  4.34843657e+01,  8.01402800e+01,  6.87061891e+01,\n",
              "        1.01484614e+02,  4.77663717e+01,  1.10418883e+02,  4.37872005e+01,\n",
              "        2.33793792e+01,  9.91602046e+01,  7.88356172e+01,  5.33823549e+01,\n",
              "        9.08393704e+01,  3.62530623e+01,  2.20690070e+01,  7.17229929e+01,\n",
              "        8.70239873e+00,  5.43441451e+01,  1.64158310e+01,  1.45233203e+01,\n",
              "        2.56978127e+01,  9.25358418e+01,  1.22615685e+01,  9.01992047e+01,\n",
              "        6.41925215e+01,  6.80399702e+01,  1.04245155e+02,  8.08471016e+01,\n",
              "        1.08042220e+02,  5.49892235e+01,  1.30762165e+02,  7.25141662e+01,\n",
              "        6.37981047e+01,  8.29123339e+01,  1.04343311e+02,  3.05976261e+01,\n",
              "        2.90693393e+01,  7.89036029e+01, -3.27558231e+00,  5.45726290e+01,\n",
              "        9.55400882e+01,  3.51436035e+01,  3.83686682e+01,  5.55575796e+01,\n",
              "        1.12429132e+02,  9.82850154e+01,  1.20285795e+02,  1.26179415e+02,\n",
              "        8.53450709e+01,  9.40087197e+01,  8.48125962e+01,  1.40108093e+02,\n",
              "        5.75981911e+01,  2.80451296e+01,  3.01393113e+00,  4.51309736e+01,\n",
              "        1.63900909e+02,  7.29607036e+01,  1.44144639e+02,  7.12204821e+01,\n",
              "        9.28664052e+01,  2.24152893e+01,  3.49393300e+01,  1.12889226e+02,\n",
              "        5.41982884e+01,  4.62529371e+01,  6.50579321e+01,  7.21651440e+01])"
            ]
          },
          "metadata": {
            "tags": []
          },
          "execution_count": 35
        }
      ]
    },
    {
      "cell_type": "code",
      "metadata": {
        "id": "tXf_oOXRAqxm"
      },
      "source": [
        "df_submission = pd.DataFrame( [df['id'], final_pred])\n",
        "df_submission = df_submission.transpose()\n",
        "df_submission.columns = ['protein','solubility']"
      ],
      "execution_count": 36,
      "outputs": []
    },
    {
      "cell_type": "code",
      "metadata": {
        "id": "O4qcduq3_Urr"
      },
      "source": [
        "df_submission.to_csv(root_path + 'predictions.csv')"
      ],
      "execution_count": 37,
      "outputs": []
    },
    {
      "cell_type": "code",
      "metadata": {
        "colab": {
          "base_uri": "https://localhost:8080/",
          "height": 204
        },
        "id": "QNqJnuSRBoxC",
        "outputId": "7943a93f-ab4d-42f9-ad0d-3eddefddeefc"
      },
      "source": [
        "df_submission.head()"
      ],
      "execution_count": 38,
      "outputs": [
        {
          "output_type": "execute_result",
          "data": {
            "text/html": [
              "<div>\n",
              "<style scoped>\n",
              "    .dataframe tbody tr th:only-of-type {\n",
              "        vertical-align: middle;\n",
              "    }\n",
              "\n",
              "    .dataframe tbody tr th {\n",
              "        vertical-align: top;\n",
              "    }\n",
              "\n",
              "    .dataframe thead th {\n",
              "        text-align: right;\n",
              "    }\n",
              "</style>\n",
              "<table border=\"1\" class=\"dataframe\">\n",
              "  <thead>\n",
              "    <tr style=\"text-align: right;\">\n",
              "      <th></th>\n",
              "      <th>protein</th>\n",
              "      <th>solubility</th>\n",
              "    </tr>\n",
              "  </thead>\n",
              "  <tbody>\n",
              "    <tr>\n",
              "      <th>0</th>\n",
              "      <td>P0A6K1</td>\n",
              "      <td>-5.81598</td>\n",
              "    </tr>\n",
              "    <tr>\n",
              "      <th>1</th>\n",
              "      <td>P76503</td>\n",
              "      <td>61.3743</td>\n",
              "    </tr>\n",
              "    <tr>\n",
              "      <th>2</th>\n",
              "      <td>P77215</td>\n",
              "      <td>-3.03643</td>\n",
              "    </tr>\n",
              "    <tr>\n",
              "      <th>3</th>\n",
              "      <td>P07639</td>\n",
              "      <td>78.2297</td>\n",
              "    </tr>\n",
              "    <tr>\n",
              "      <th>4</th>\n",
              "      <td>P25397</td>\n",
              "      <td>49.6678</td>\n",
              "    </tr>\n",
              "  </tbody>\n",
              "</table>\n",
              "</div>"
            ],
            "text/plain": [
              "  protein solubility\n",
              "0  P0A6K1   -5.81598\n",
              "1  P76503    61.3743\n",
              "2  P77215   -3.03643\n",
              "3  P07639    78.2297\n",
              "4  P25397    49.6678"
            ]
          },
          "metadata": {
            "tags": []
          },
          "execution_count": 38
        }
      ]
    },
    {
      "cell_type": "code",
      "metadata": {
        "colab": {
          "base_uri": "https://localhost:8080/",
          "height": 265
        },
        "id": "akUL7Xw0Co2L",
        "outputId": "61b45b83-6c82-410d-8d90-3b29013f3b64"
      },
      "source": [
        "plt.hist(df_submission.solubility);"
      ],
      "execution_count": 40,
      "outputs": [
        {
          "output_type": "display_data",
          "data": {
            "image/png": "[encoded data removed]",
            "text/plain": [
              "<Figure size 432x288 with 1 Axes>"
            ]
          },
          "metadata": {
            "tags": [],
            "needs_background": "light"
          }
        }
      ]
    },
    {
      "cell_type": "code",
      "metadata": {
        "id": "Ghs46mG7IRuW"
      },
      "source": [
        ""
      ],
      "execution_count": null,
      "outputs": []
    }
  ]
}