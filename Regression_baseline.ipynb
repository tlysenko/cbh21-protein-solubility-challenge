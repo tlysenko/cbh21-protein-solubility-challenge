{
  "nbformat": 4,
  "nbformat_minor": 0,
  "metadata": {
    "colab": {
      "name": "Regression-baseline.ipynb",
      "provenance": [],
      "mount_file_id": "15pKSP_1X5evH3pwcWG2iinOSUsxH4NmV",
      "authorship_tag": "ABX9TyM/zTbXU9IJMTY6FdkXIYT3",
      "include_colab_link": true
    },
    "kernelspec": {
      "name": "python3",
      "display_name": "Python 3"
    },
    "language_info": {
      "name": "python"
    }
  },
  "cells": [
    {
      "cell_type": "markdown",
      "metadata": {
        "id": "view-in-github",
        "colab_type": "text"
      },
      "source": [
        "<a href=\"https://colab.research.google.com/github/tlysenko/cbh21-protein-solubility-challenge/blob/main/Regression_baseline.ipynb\" target=\"_parent\"><img src=\"https://colab.research.google.com/assets/colab-badge.svg\" alt=\"Open In Colab\"/></a>"
      ]
    },
    {
      "cell_type": "markdown",
      "metadata": {
        "id": "NPyXlkr6M7r7"
      },
      "source": [
        "### Importing the libraries"
      ]
    },
    {
      "cell_type": "code",
      "metadata": {
        "id": "ktBvEDPxMswo"
      },
      "source": [
        "import pandas as pd\n",
        "import numpy as np\n",
        "\n",
        "from sklearn.linear_model import LinearRegression\n",
        "from sklearn.model_selection import train_test_split, cross_val_score\n",
        "from sklearn.preprocessing import StandardScaler\n",
        "\n",
        "from sklearn import metrics\n",
        "\n",
        "from scipy.stats import pearsonr\n",
        "\n",
        "import matplotlib.pyplot as plt\n",
        "%matplotlib inline"
      ],
      "execution_count": 186,
      "outputs": []
    },
    {
      "cell_type": "markdown",
      "metadata": {
        "id": "HuTEmcHg0-lG"
      },
      "source": [
        "# Data Preparation"
      ]
    },
    {
      "cell_type": "markdown",
      "metadata": {
        "id": "D1BPyN38jels"
      },
      "source": [
        "### Train.csv"
      ]
    },
    {
      "cell_type": "code",
      "metadata": {
        "colab": {
          "base_uri": "https://localhost:8080/"
        },
        "id": "IUcCVoRvNJ3m",
        "outputId": "2bb99778-9af1-4375-b494-47078b947428"
      },
      "source": [
        "root_path = '/content/drive/MyDrive/CBH/Model_0.2/'\n",
        "df = pd.read_csv(root_path + 'data/train.csv')\n",
        "\n",
        "#Features PFAM\n",
        "df_pfam = pd.read_csv(root_path + 'data/features_pfam.csv')\n",
        "\n",
        "# PhysProp features\n",
        "df_pp = pd.read_csv(root_path +'data/features_phys_prop.csv')\n",
        "\n",
        "#Protdes features\n",
        "df_protdes = pd.read_csv(root_path +'data/features_protdes_combined.csv')\n",
        "\n",
        "# Merging the data\n",
        "df_main = pd.merge(df, df_pfam, on='id')\n",
        "df_main = pd.merge(df_main, df_pp, on='id')\n",
        "df_main = pd.merge(df_main, df_protdes, on = 'id')\n",
        "\n",
        "df_main = df_main.fillna(0)\n",
        "\n",
        "\n",
        "print('pfam', df_pfam.shape)\n",
        "print('df', df.shape)\n",
        "print('df_pp', df_pp.shape)\n",
        "print('df_main',df_main.shape)\n",
        "print(df_pfam.shape[1] + df_pp.shape[1] + df_protdes.shape[1])"
      ],
      "execution_count": 319,
      "outputs": [
        {
          "output_type": "stream",
          "text": [
            "pfam (1065, 1054)\n",
            "df (406, 3)\n",
            "df_pp (1065, 26)\n",
            "df_main (406, 1228)\n",
            "1228\n"
          ],
          "name": "stdout"
        }
      ]
    },
    {
      "cell_type": "code",
      "metadata": {
        "colab": {
          "base_uri": "https://localhost:8080/",
          "height": 253
        },
        "id": "xgSw9Bl69vAo",
        "outputId": "644a0d69-bd65-4518-f4ba-61621046ded7"
      },
      "source": [
        "df_main.head()"
      ],
      "execution_count": 287,
      "outputs": [
        {
          "output_type": "execute_result",
          "data": {
            "text/html": [
              "<div>\n",
              "<style scoped>\n",
              "    .dataframe tbody tr th:only-of-type {\n",
              "        vertical-align: middle;\n",
              "    }\n",
              "\n",
              "    .dataframe tbody tr th {\n",
              "        vertical-align: top;\n",
              "    }\n",
              "\n",
              "    .dataframe thead th {\n",
              "        text-align: right;\n",
              "    }\n",
              "</style>\n",
              "<table border=\"1\" class=\"dataframe\">\n",
              "  <thead>\n",
              "    <tr style=\"text-align: right;\">\n",
              "      <th></th>\n",
              "      <th>id</th>\n",
              "      <th>seq</th>\n",
              "      <th>solubility</th>\n",
              "      <th>pfam_1</th>\n",
              "      <th>pfam_2</th>\n",
              "      <th>pfam_3</th>\n",
              "      <th>pfam_4</th>\n",
              "      <th>pfam_5</th>\n",
              "      <th>pfam_6</th>\n",
              "      <th>pfam_7</th>\n",
              "      <th>pfam_8</th>\n",
              "      <th>pfam_9</th>\n",
              "      <th>pfam_10</th>\n",
              "      <th>pfam_11</th>\n",
              "      <th>pfam_12</th>\n",
              "      <th>pfam_13</th>\n",
              "      <th>pfam_14</th>\n",
              "      <th>pfam_15</th>\n",
              "      <th>pfam_16</th>\n",
              "      <th>pfam_17</th>\n",
              "      <th>pfam_18</th>\n",
              "      <th>pfam_19</th>\n",
              "      <th>pfam_20</th>\n",
              "      <th>pfam_21</th>\n",
              "      <th>pfam_22</th>\n",
              "      <th>pfam_23</th>\n",
              "      <th>pfam_24</th>\n",
              "      <th>pfam_25</th>\n",
              "      <th>pfam_26</th>\n",
              "      <th>pfam_27</th>\n",
              "      <th>pfam_28</th>\n",
              "      <th>pfam_29</th>\n",
              "      <th>pfam_30</th>\n",
              "      <th>pfam_31</th>\n",
              "      <th>pfam_32</th>\n",
              "      <th>pfam_33</th>\n",
              "      <th>pfam_34</th>\n",
              "      <th>pfam_35</th>\n",
              "      <th>pfam_36</th>\n",
              "      <th>pfam_37</th>\n",
              "      <th>...</th>\n",
              "      <th>_PolarityD2001</th>\n",
              "      <th>_PolarityD2025</th>\n",
              "      <th>_PolarityD2050</th>\n",
              "      <th>_PolarityD2075</th>\n",
              "      <th>_PolarityD2100</th>\n",
              "      <th>_PolarityD3001</th>\n",
              "      <th>_PolarityD3025</th>\n",
              "      <th>_PolarityD3050</th>\n",
              "      <th>_PolarityD3075</th>\n",
              "      <th>_PolarityD3100</th>\n",
              "      <th>_NormalizedVDWVD1001</th>\n",
              "      <th>_NormalizedVDWVD1025</th>\n",
              "      <th>_NormalizedVDWVD1050</th>\n",
              "      <th>_NormalizedVDWVD1075</th>\n",
              "      <th>_NormalizedVDWVD1100</th>\n",
              "      <th>_NormalizedVDWVD2001</th>\n",
              "      <th>_NormalizedVDWVD2025</th>\n",
              "      <th>_NormalizedVDWVD2050</th>\n",
              "      <th>_NormalizedVDWVD2075</th>\n",
              "      <th>_NormalizedVDWVD2100</th>\n",
              "      <th>_NormalizedVDWVD3001</th>\n",
              "      <th>_NormalizedVDWVD3025</th>\n",
              "      <th>_NormalizedVDWVD3050</th>\n",
              "      <th>_NormalizedVDWVD3075</th>\n",
              "      <th>_NormalizedVDWVD3100</th>\n",
              "      <th>_HydrophobicityD1001</th>\n",
              "      <th>_HydrophobicityD1025</th>\n",
              "      <th>_HydrophobicityD1050</th>\n",
              "      <th>_HydrophobicityD1075</th>\n",
              "      <th>_HydrophobicityD1100</th>\n",
              "      <th>_HydrophobicityD2001</th>\n",
              "      <th>_HydrophobicityD2025</th>\n",
              "      <th>_HydrophobicityD2050</th>\n",
              "      <th>_HydrophobicityD2075</th>\n",
              "      <th>_HydrophobicityD2100</th>\n",
              "      <th>_HydrophobicityD3001</th>\n",
              "      <th>_HydrophobicityD3025</th>\n",
              "      <th>_HydrophobicityD3050</th>\n",
              "      <th>_HydrophobicityD3075</th>\n",
              "      <th>_HydrophobicityD3100</th>\n",
              "    </tr>\n",
              "  </thead>\n",
              "  <tbody>\n",
              "    <tr>\n",
              "      <th>0</th>\n",
              "      <td>P0AFP6</td>\n",
              "      <td>MKNTELEQLINEKLNSAAISDYAPNGLQVEGKETVQKIVTGVTASQ...</td>\n",
              "      <td>13</td>\n",
              "      <td>0</td>\n",
              "      <td>0</td>\n",
              "      <td>0</td>\n",
              "      <td>0</td>\n",
              "      <td>0</td>\n",
              "      <td>0</td>\n",
              "      <td>0</td>\n",
              "      <td>0</td>\n",
              "      <td>0</td>\n",
              "      <td>0</td>\n",
              "      <td>0</td>\n",
              "      <td>0</td>\n",
              "      <td>0</td>\n",
              "      <td>0</td>\n",
              "      <td>0</td>\n",
              "      <td>0</td>\n",
              "      <td>0</td>\n",
              "      <td>0</td>\n",
              "      <td>0</td>\n",
              "      <td>0</td>\n",
              "      <td>0</td>\n",
              "      <td>0</td>\n",
              "      <td>0</td>\n",
              "      <td>0</td>\n",
              "      <td>0</td>\n",
              "      <td>0</td>\n",
              "      <td>0</td>\n",
              "      <td>0</td>\n",
              "      <td>0</td>\n",
              "      <td>0</td>\n",
              "      <td>0</td>\n",
              "      <td>0</td>\n",
              "      <td>0</td>\n",
              "      <td>0</td>\n",
              "      <td>0</td>\n",
              "      <td>0</td>\n",
              "      <td>0</td>\n",
              "      <td>...</td>\n",
              "      <td>8.333</td>\n",
              "      <td>41.667</td>\n",
              "      <td>8.333</td>\n",
              "      <td>8.333</td>\n",
              "      <td>41.667</td>\n",
              "      <td>0.000</td>\n",
              "      <td>0.000</td>\n",
              "      <td>0.000</td>\n",
              "      <td>0.000</td>\n",
              "      <td>0.000</td>\n",
              "      <td>8.333</td>\n",
              "      <td>41.667</td>\n",
              "      <td>8.333</td>\n",
              "      <td>25.000</td>\n",
              "      <td>41.667</td>\n",
              "      <td>0.000</td>\n",
              "      <td>0.000</td>\n",
              "      <td>0.000</td>\n",
              "      <td>0.000</td>\n",
              "      <td>0.000</td>\n",
              "      <td>33.333</td>\n",
              "      <td>33.333</td>\n",
              "      <td>33.333</td>\n",
              "      <td>33.333</td>\n",
              "      <td>33.333</td>\n",
              "      <td>0.000</td>\n",
              "      <td>0.000</td>\n",
              "      <td>0.000</td>\n",
              "      <td>0.000</td>\n",
              "      <td>0.000</td>\n",
              "      <td>8.333</td>\n",
              "      <td>41.667</td>\n",
              "      <td>8.333</td>\n",
              "      <td>25.000</td>\n",
              "      <td>41.667</td>\n",
              "      <td>33.333</td>\n",
              "      <td>33.333</td>\n",
              "      <td>33.333</td>\n",
              "      <td>33.333</td>\n",
              "      <td>33.333</td>\n",
              "    </tr>\n",
              "    <tr>\n",
              "      <th>1</th>\n",
              "      <td>P00370</td>\n",
              "      <td>MDQTYSLESFLNHVQKRDPNQTEFAQAVREVMTTLWPFLEQNPKYR...</td>\n",
              "      <td>22</td>\n",
              "      <td>0</td>\n",
              "      <td>0</td>\n",
              "      <td>0</td>\n",
              "      <td>0</td>\n",
              "      <td>0</td>\n",
              "      <td>0</td>\n",
              "      <td>0</td>\n",
              "      <td>0</td>\n",
              "      <td>0</td>\n",
              "      <td>0</td>\n",
              "      <td>0</td>\n",
              "      <td>0</td>\n",
              "      <td>0</td>\n",
              "      <td>0</td>\n",
              "      <td>0</td>\n",
              "      <td>0</td>\n",
              "      <td>0</td>\n",
              "      <td>0</td>\n",
              "      <td>0</td>\n",
              "      <td>0</td>\n",
              "      <td>0</td>\n",
              "      <td>0</td>\n",
              "      <td>0</td>\n",
              "      <td>0</td>\n",
              "      <td>0</td>\n",
              "      <td>0</td>\n",
              "      <td>0</td>\n",
              "      <td>0</td>\n",
              "      <td>0</td>\n",
              "      <td>0</td>\n",
              "      <td>0</td>\n",
              "      <td>0</td>\n",
              "      <td>0</td>\n",
              "      <td>0</td>\n",
              "      <td>0</td>\n",
              "      <td>0</td>\n",
              "      <td>0</td>\n",
              "      <td>...</td>\n",
              "      <td>8.333</td>\n",
              "      <td>8.333</td>\n",
              "      <td>8.333</td>\n",
              "      <td>8.333</td>\n",
              "      <td>8.333</td>\n",
              "      <td>33.333</td>\n",
              "      <td>33.333</td>\n",
              "      <td>33.333</td>\n",
              "      <td>33.333</td>\n",
              "      <td>33.333</td>\n",
              "      <td>8.333</td>\n",
              "      <td>8.333</td>\n",
              "      <td>8.333</td>\n",
              "      <td>8.333</td>\n",
              "      <td>8.333</td>\n",
              "      <td>0.000</td>\n",
              "      <td>0.000</td>\n",
              "      <td>0.000</td>\n",
              "      <td>0.000</td>\n",
              "      <td>0.000</td>\n",
              "      <td>33.333</td>\n",
              "      <td>33.333</td>\n",
              "      <td>33.333</td>\n",
              "      <td>33.333</td>\n",
              "      <td>33.333</td>\n",
              "      <td>0.000</td>\n",
              "      <td>0.000</td>\n",
              "      <td>0.000</td>\n",
              "      <td>0.000</td>\n",
              "      <td>0.000</td>\n",
              "      <td>8.333</td>\n",
              "      <td>8.333</td>\n",
              "      <td>8.333</td>\n",
              "      <td>8.333</td>\n",
              "      <td>8.333</td>\n",
              "      <td>33.333</td>\n",
              "      <td>33.333</td>\n",
              "      <td>33.333</td>\n",
              "      <td>33.333</td>\n",
              "      <td>33.333</td>\n",
              "    </tr>\n",
              "    <tr>\n",
              "      <th>2</th>\n",
              "      <td>P0ABD3</td>\n",
              "      <td>MKGDTKVINYLNKLLGNELVAINQYFLHARMFKNWGLKRLNDVEYH...</td>\n",
              "      <td>96</td>\n",
              "      <td>0</td>\n",
              "      <td>0</td>\n",
              "      <td>0</td>\n",
              "      <td>0</td>\n",
              "      <td>0</td>\n",
              "      <td>0</td>\n",
              "      <td>0</td>\n",
              "      <td>0</td>\n",
              "      <td>0</td>\n",
              "      <td>0</td>\n",
              "      <td>0</td>\n",
              "      <td>0</td>\n",
              "      <td>0</td>\n",
              "      <td>0</td>\n",
              "      <td>0</td>\n",
              "      <td>0</td>\n",
              "      <td>0</td>\n",
              "      <td>0</td>\n",
              "      <td>0</td>\n",
              "      <td>0</td>\n",
              "      <td>0</td>\n",
              "      <td>0</td>\n",
              "      <td>0</td>\n",
              "      <td>0</td>\n",
              "      <td>0</td>\n",
              "      <td>0</td>\n",
              "      <td>0</td>\n",
              "      <td>0</td>\n",
              "      <td>0</td>\n",
              "      <td>0</td>\n",
              "      <td>0</td>\n",
              "      <td>0</td>\n",
              "      <td>0</td>\n",
              "      <td>0</td>\n",
              "      <td>0</td>\n",
              "      <td>0</td>\n",
              "      <td>0</td>\n",
              "      <td>...</td>\n",
              "      <td>8.333</td>\n",
              "      <td>8.333</td>\n",
              "      <td>8.333</td>\n",
              "      <td>8.333</td>\n",
              "      <td>8.333</td>\n",
              "      <td>50.000</td>\n",
              "      <td>50.000</td>\n",
              "      <td>50.000</td>\n",
              "      <td>50.000</td>\n",
              "      <td>50.000</td>\n",
              "      <td>8.333</td>\n",
              "      <td>41.667</td>\n",
              "      <td>8.333</td>\n",
              "      <td>25.000</td>\n",
              "      <td>41.667</td>\n",
              "      <td>0.000</td>\n",
              "      <td>0.000</td>\n",
              "      <td>0.000</td>\n",
              "      <td>0.000</td>\n",
              "      <td>0.000</td>\n",
              "      <td>50.000</td>\n",
              "      <td>50.000</td>\n",
              "      <td>50.000</td>\n",
              "      <td>50.000</td>\n",
              "      <td>50.000</td>\n",
              "      <td>41.667</td>\n",
              "      <td>41.667</td>\n",
              "      <td>41.667</td>\n",
              "      <td>41.667</td>\n",
              "      <td>41.667</td>\n",
              "      <td>8.333</td>\n",
              "      <td>25.000</td>\n",
              "      <td>8.333</td>\n",
              "      <td>8.333</td>\n",
              "      <td>25.000</td>\n",
              "      <td>50.000</td>\n",
              "      <td>50.000</td>\n",
              "      <td>50.000</td>\n",
              "      <td>50.000</td>\n",
              "      <td>50.000</td>\n",
              "    </tr>\n",
              "    <tr>\n",
              "      <th>3</th>\n",
              "      <td>Q46891</td>\n",
              "      <td>MPRFAANLSMMFTEVPFIERFAAARKAGFDAVEFLFPYNYSTLQIQ...</td>\n",
              "      <td>15</td>\n",
              "      <td>0</td>\n",
              "      <td>0</td>\n",
              "      <td>0</td>\n",
              "      <td>0</td>\n",
              "      <td>0</td>\n",
              "      <td>0</td>\n",
              "      <td>0</td>\n",
              "      <td>0</td>\n",
              "      <td>0</td>\n",
              "      <td>0</td>\n",
              "      <td>0</td>\n",
              "      <td>0</td>\n",
              "      <td>0</td>\n",
              "      <td>0</td>\n",
              "      <td>0</td>\n",
              "      <td>0</td>\n",
              "      <td>0</td>\n",
              "      <td>0</td>\n",
              "      <td>0</td>\n",
              "      <td>0</td>\n",
              "      <td>0</td>\n",
              "      <td>0</td>\n",
              "      <td>0</td>\n",
              "      <td>0</td>\n",
              "      <td>0</td>\n",
              "      <td>0</td>\n",
              "      <td>0</td>\n",
              "      <td>0</td>\n",
              "      <td>0</td>\n",
              "      <td>0</td>\n",
              "      <td>0</td>\n",
              "      <td>0</td>\n",
              "      <td>0</td>\n",
              "      <td>0</td>\n",
              "      <td>0</td>\n",
              "      <td>0</td>\n",
              "      <td>0</td>\n",
              "      <td>...</td>\n",
              "      <td>8.333</td>\n",
              "      <td>8.333</td>\n",
              "      <td>8.333</td>\n",
              "      <td>8.333</td>\n",
              "      <td>8.333</td>\n",
              "      <td>0.000</td>\n",
              "      <td>0.000</td>\n",
              "      <td>0.000</td>\n",
              "      <td>0.000</td>\n",
              "      <td>0.000</td>\n",
              "      <td>50.000</td>\n",
              "      <td>50.000</td>\n",
              "      <td>50.000</td>\n",
              "      <td>50.000</td>\n",
              "      <td>50.000</td>\n",
              "      <td>8.333</td>\n",
              "      <td>8.333</td>\n",
              "      <td>8.333</td>\n",
              "      <td>8.333</td>\n",
              "      <td>8.333</td>\n",
              "      <td>0.000</td>\n",
              "      <td>0.000</td>\n",
              "      <td>0.000</td>\n",
              "      <td>0.000</td>\n",
              "      <td>0.000</td>\n",
              "      <td>8.333</td>\n",
              "      <td>50.000</td>\n",
              "      <td>8.333</td>\n",
              "      <td>8.333</td>\n",
              "      <td>50.000</td>\n",
              "      <td>0.000</td>\n",
              "      <td>0.000</td>\n",
              "      <td>0.000</td>\n",
              "      <td>0.000</td>\n",
              "      <td>0.000</td>\n",
              "      <td>0.000</td>\n",
              "      <td>0.000</td>\n",
              "      <td>0.000</td>\n",
              "      <td>0.000</td>\n",
              "      <td>0.000</td>\n",
              "    </tr>\n",
              "    <tr>\n",
              "      <th>4</th>\n",
              "      <td>P0A763</td>\n",
              "      <td>AIERTFSIIKPNAVAKNVIGNIFARFEAAGFKIVGTKMLHLTVEQA...</td>\n",
              "      <td>65</td>\n",
              "      <td>0</td>\n",
              "      <td>0</td>\n",
              "      <td>0</td>\n",
              "      <td>0</td>\n",
              "      <td>0</td>\n",
              "      <td>0</td>\n",
              "      <td>0</td>\n",
              "      <td>0</td>\n",
              "      <td>0</td>\n",
              "      <td>0</td>\n",
              "      <td>0</td>\n",
              "      <td>0</td>\n",
              "      <td>0</td>\n",
              "      <td>0</td>\n",
              "      <td>0</td>\n",
              "      <td>0</td>\n",
              "      <td>0</td>\n",
              "      <td>0</td>\n",
              "      <td>0</td>\n",
              "      <td>0</td>\n",
              "      <td>0</td>\n",
              "      <td>0</td>\n",
              "      <td>0</td>\n",
              "      <td>0</td>\n",
              "      <td>0</td>\n",
              "      <td>0</td>\n",
              "      <td>0</td>\n",
              "      <td>0</td>\n",
              "      <td>0</td>\n",
              "      <td>0</td>\n",
              "      <td>0</td>\n",
              "      <td>0</td>\n",
              "      <td>0</td>\n",
              "      <td>0</td>\n",
              "      <td>0</td>\n",
              "      <td>0</td>\n",
              "      <td>0</td>\n",
              "      <td>...</td>\n",
              "      <td>8.333</td>\n",
              "      <td>8.333</td>\n",
              "      <td>8.333</td>\n",
              "      <td>8.333</td>\n",
              "      <td>8.333</td>\n",
              "      <td>50.000</td>\n",
              "      <td>50.000</td>\n",
              "      <td>50.000</td>\n",
              "      <td>50.000</td>\n",
              "      <td>50.000</td>\n",
              "      <td>8.333</td>\n",
              "      <td>25.000</td>\n",
              "      <td>8.333</td>\n",
              "      <td>8.333</td>\n",
              "      <td>25.000</td>\n",
              "      <td>0.000</td>\n",
              "      <td>0.000</td>\n",
              "      <td>0.000</td>\n",
              "      <td>0.000</td>\n",
              "      <td>0.000</td>\n",
              "      <td>50.000</td>\n",
              "      <td>50.000</td>\n",
              "      <td>50.000</td>\n",
              "      <td>50.000</td>\n",
              "      <td>50.000</td>\n",
              "      <td>0.000</td>\n",
              "      <td>0.000</td>\n",
              "      <td>0.000</td>\n",
              "      <td>0.000</td>\n",
              "      <td>0.000</td>\n",
              "      <td>8.333</td>\n",
              "      <td>25.000</td>\n",
              "      <td>8.333</td>\n",
              "      <td>8.333</td>\n",
              "      <td>25.000</td>\n",
              "      <td>50.000</td>\n",
              "      <td>50.000</td>\n",
              "      <td>50.000</td>\n",
              "      <td>50.000</td>\n",
              "      <td>50.000</td>\n",
              "    </tr>\n",
              "  </tbody>\n",
              "</table>\n",
              "<p>5 rows × 1228 columns</p>\n",
              "</div>"
            ],
            "text/plain": [
              "       id  ... _HydrophobicityD3100\n",
              "0  P0AFP6  ...               33.333\n",
              "1  P00370  ...               33.333\n",
              "2  P0ABD3  ...               50.000\n",
              "3  Q46891  ...                0.000\n",
              "4  P0A763  ...               50.000\n",
              "\n",
              "[5 rows x 1228 columns]"
            ]
          },
          "metadata": {
            "tags": []
          },
          "execution_count": 287
        }
      ]
    },
    {
      "cell_type": "markdown",
      "metadata": {
        "id": "-jkNGCC6Pl7u"
      },
      "source": [
        "### X and Y variables"
      ]
    },
    {
      "cell_type": "code",
      "metadata": {
        "id": "mnQkGwGvPpwx"
      },
      "source": [
        "Y = df_main['solubility']\n",
        "X = df_main.drop(['solubility', 'seq','id'], axis = 1)"
      ],
      "execution_count": 242,
      "outputs": []
    },
    {
      "cell_type": "code",
      "metadata": {
        "colab": {
          "base_uri": "https://localhost:8080/"
        },
        "id": "nUzKAuWZVVZY",
        "outputId": "f4be2cdb-2122-4deb-a4ca-68d735b82e6d"
      },
      "source": [
        "print(X.shape, y.shape)"
      ],
      "execution_count": 243,
      "outputs": [
        {
          "output_type": "stream",
          "text": [
            "(406, 1225) (406,)\n"
          ],
          "name": "stdout"
        }
      ]
    },
    {
      "cell_type": "markdown",
      "metadata": {
        "id": "FnzG9AblOiQv"
      },
      "source": [
        "### Train-test-split"
      ]
    },
    {
      "cell_type": "code",
      "metadata": {
        "id": "0ozbm5N9PUl1"
      },
      "source": [
        "X_train, X_test, y_train, y_test = train_test_split(\n",
        "         X, y, test_size=0.23, random_state=42)"
      ],
      "execution_count": 244,
      "outputs": []
    },
    {
      "cell_type": "code",
      "metadata": {
        "colab": {
          "base_uri": "https://localhost:8080/"
        },
        "id": "dGwDh4y8VJoZ",
        "outputId": "253a0151-1cc4-4219-8dee-e0899eb4c13c"
      },
      "source": [
        "print(X_train.shape, y_train.shape)\n",
        "print(X_test.shape, y_test.shape)  "
      ],
      "execution_count": 245,
      "outputs": [
        {
          "output_type": "stream",
          "text": [
            "(312, 1225) (312,)\n",
            "(94, 1225) (94,)\n"
          ],
          "name": "stdout"
        }
      ]
    },
    {
      "cell_type": "markdown",
      "metadata": {
        "id": "pbCboJAZUSKD"
      },
      "source": [
        "### Scale the data"
      ]
    },
    {
      "cell_type": "code",
      "metadata": {
        "id": "PYOuxhxoUUCz"
      },
      "source": [
        "sc_X = StandardScaler()\n",
        "X_train = sc_X.fit_transform(X_train)\n",
        "X_test = sc_X.transform(X_test)"
      ],
      "execution_count": 246,
      "outputs": []
    },
    {
      "cell_type": "markdown",
      "metadata": {
        "id": "VpP3ALNr1ICn"
      },
      "source": [
        "# Model Training"
      ]
    },
    {
      "cell_type": "markdown",
      "metadata": {
        "id": "9azUsfoQQQb5"
      },
      "source": [
        "### Liner Model"
      ]
    },
    {
      "cell_type": "code",
      "metadata": {
        "id": "V7pSzIhqQIaO"
      },
      "source": [
        "model = LinearRegression().fit(X_train, y_train)"
      ],
      "execution_count": 247,
      "outputs": []
    },
    {
      "cell_type": "markdown",
      "metadata": {
        "id": "KAomFEJDTsTV"
      },
      "source": [
        "# Inference"
      ]
    },
    {
      "cell_type": "code",
      "metadata": {
        "id": "UpB31H8HSJJw"
      },
      "source": [
        "prediction_LR = model.predict(X_test)"
      ],
      "execution_count": 248,
      "outputs": []
    },
    {
      "cell_type": "code",
      "metadata": {
        "colab": {
          "base_uri": "https://localhost:8080/",
          "height": 265
        },
        "id": "YlzCaiGZhXDG",
        "outputId": "62cc955a-959d-4f1a-fce5-9df6784ac0d1"
      },
      "source": [
        "plt.boxplot([prediction_LR, y_test]);"
      ],
      "execution_count": 249,
      "outputs": [
        {
          "output_type": "display_data",
          "data": {
            "image/png": "[encoded data removed]",
            "text/plain": [
              "<Figure size 432x288 with 1 Axes>"
            ]
          },
          "metadata": {
            "tags": [],
            "needs_background": "light"
          }
        }
      ]
    },
    {
      "cell_type": "code",
      "metadata": {
        "colab": {
          "base_uri": "https://localhost:8080/",
          "height": 265
        },
        "id": "lE9nWIVj2Hrn",
        "outputId": "e6de0da8-7d7a-4eb5-ede2-746ff9a4713b"
      },
      "source": [
        "plt.scatter(prediction_LR, y_test);"
      ],
      "execution_count": 250,
      "outputs": [
        {
          "output_type": "display_data",
          "data": {
            "image/png": "[encoded data removed]",
            "text/plain": [
              "<Figure size 432x288 with 1 Axes>"
            ]
          },
          "metadata": {
            "tags": [],
            "needs_background": "light"
          }
        }
      ]
    },
    {
      "cell_type": "code",
      "metadata": {
        "colab": {
          "base_uri": "https://localhost:8080/"
        },
        "id": "7XtwusgS2ypI",
        "outputId": "eba4366b-ed21-4739-ec09-3a99d2b9a5fa"
      },
      "source": [
        "pearsonr(prediction_LR, y_test)"
      ],
      "execution_count": 252,
      "outputs": [
        {
          "output_type": "execute_result",
          "data": {
            "text/plain": [
              "(0.2247441630617983, 0.029423757312444267)"
            ]
          },
          "metadata": {
            "tags": []
          },
          "execution_count": 252
        }
      ]
    },
    {
      "cell_type": "markdown",
      "metadata": {
        "id": "SCJpF-tK-yPe"
      },
      "source": [
        "# test.csv inference"
      ]
    },
    {
      "cell_type": "code",
      "metadata": {
        "colab": {
          "base_uri": "https://localhost:8080/"
        },
        "id": "sSBA_-au-xsj",
        "outputId": "3416f355-be26-4c7d-f9d2-476a3169242a"
      },
      "source": [
        "root_path = '/content/drive/MyDrive/CBH/Model_0.2/'\n",
        "df = pd.read_csv(root_path + 'data/test.csv')\n",
        "\n",
        "#Features PFAM\n",
        "df_pfam = pd.read_csv(root_path + 'data/features_pfam.csv')\n",
        "\n",
        "# PhysProp features\n",
        "df_pp = pd.read_csv(root_path +'data/features_phys_prop.csv')\n",
        "\n",
        "#Protdes features\n",
        "df_protdes = pd.read_csv(root_path +'data/features_protdes_combined.csv')\n",
        "\n",
        "# Merging the data\n",
        "df_main = pd.merge(df, df_pfam, on='id')\n",
        "df_main = pd.merge(df_main, df_pp, on='id')\n",
        "df_main = pd.merge(df_main, df_protdes, on = 'id')\n",
        "df_main = df_main.fillna(0)\n",
        "\n",
        "df_main.shape\n",
        "\n",
        "print('pfam', df_pfam.shape)\n",
        "print('df', df.shape)\n",
        "print('df_pp', df_pp.shape)\n",
        "print('df_main',df_main.shape)\n",
        "print(df_pfam.shape[1] + df_pp.shape[1] + df_protdes.shape[1])"
      ],
      "execution_count": 324,
      "outputs": [
        {
          "output_type": "stream",
          "text": [
            "pfam (1065, 1054)\n",
            "df (659, 2)\n",
            "df_pp (1065, 26)\n",
            "df_main (659, 1227)\n",
            "1228\n"
          ],
          "name": "stdout"
        }
      ]
    },
    {
      "cell_type": "code",
      "metadata": {
        "id": "mOk2i2qv-CUB"
      },
      "source": [
        "df_main = df_main.drop(['seq', 'id'], axis = 1)\n",
        "X_main = sc_X.fit_transform(df_main)"
      ],
      "execution_count": 325,
      "outputs": []
    },
    {
      "cell_type": "code",
      "metadata": {
        "id": "uuCEn-5s7kDW"
      },
      "source": [
        "final_pred = model.predict(df_main)"
      ],
      "execution_count": 327,
      "outputs": []
    },
    {
      "cell_type": "code",
      "metadata": {
        "id": "tXf_oOXRAqxm"
      },
      "source": [
        "df_submission = pd.DataFrame( [df['id'], final_pred])\n",
        "df_submission = df_submission.transpose()"
      ],
      "execution_count": 339,
      "outputs": []
    },
    {
      "cell_type": "code",
      "metadata": {
        "id": "O4qcduq3_Urr"
      },
      "source": [
        "df_submission.to_csv(root_path + 'predictions.csv')"
      ],
      "execution_count": 340,
      "outputs": []
    },
    {
      "cell_type": "code",
      "metadata": {
        "id": "QNqJnuSRBoxC"
      },
      "source": [
        ""
      ],
      "execution_count": null,
      "outputs": []
    }
  ]
}